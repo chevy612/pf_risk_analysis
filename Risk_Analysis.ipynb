{
 "cells": [
  {
   "cell_type": "code",
   "execution_count": 17,
   "id": "803dd7b0-dc83-4526-9d5e-5d803d949473",
   "metadata": {},
   "outputs": [
    {
     "name": "stdout",
     "output_type": "stream",
     "text": [
      "['Solarize_Light2', '_classic_test_patch', '_mpl-gallery', '_mpl-gallery-nogrid', 'bmh', 'classic', 'dark_background', 'fast', 'fivethirtyeight', 'ggplot', 'grayscale', 'seaborn-v0_8', 'seaborn-v0_8-bright', 'seaborn-v0_8-colorblind', 'seaborn-v0_8-dark', 'seaborn-v0_8-dark-palette', 'seaborn-v0_8-darkgrid', 'seaborn-v0_8-deep', 'seaborn-v0_8-muted', 'seaborn-v0_8-notebook', 'seaborn-v0_8-paper', 'seaborn-v0_8-pastel', 'seaborn-v0_8-poster', 'seaborn-v0_8-talk', 'seaborn-v0_8-ticks', 'seaborn-v0_8-white', 'seaborn-v0_8-whitegrid', 'tableau-colorblind10']\n"
     ]
    }
   ],
   "source": [
    "import pandas as pd\n",
    "import yfinance as yf\n",
    "from datetime import datetime as dt\n",
    "import numpy as np\n",
    "\n",
    "import seaborn as sns \n",
    "import matplotlib.pyplot as plt\n",
    "plt.style.use(\"default\")\n",
    "print(plt.style.available)"
   ]
  },
  {
   "cell_type": "code",
   "execution_count": 18,
   "id": "abc40c80-6313-4f4d-badc-2090044ea3e3",
   "metadata": {},
   "outputs": [
    {
     "data": {
      "text/plain": [
       "'20241221'"
      ]
     },
     "execution_count": 18,
     "metadata": {},
     "output_type": "execute_result"
    }
   ],
   "source": [
    "today_date = dt.today().strftime(\"%Y%m%d\")\n",
    "today_date"
   ]
  },
  {
   "cell_type": "code",
   "execution_count": 19,
   "id": "fe455d3c-7266-40e8-aeb3-9094c58e6d02",
   "metadata": {
    "scrolled": true
   },
   "outputs": [],
   "source": [
    "#import porfolio\n",
    "path = f\"C:/Users/Chevy/Documents/Trade/Portfolio/{today_date}_MUA.csv\"\n",
    "portfolio = pd.read_csv(path)"
   ]
  },
  {
   "cell_type": "code",
   "execution_count": 20,
   "id": "c83409a6-2357-4e13-944d-c3af3a7cc457",
   "metadata": {},
   "outputs": [
    {
     "data": {
      "text/html": [
       "<div>\n",
       "<style scoped>\n",
       "    .dataframe tbody tr th:only-of-type {\n",
       "        vertical-align: middle;\n",
       "    }\n",
       "\n",
       "    .dataframe tbody tr th {\n",
       "        vertical-align: top;\n",
       "    }\n",
       "\n",
       "    .dataframe thead th {\n",
       "        text-align: right;\n",
       "    }\n",
       "</style>\n",
       "<table border=\"1\" class=\"dataframe\">\n",
       "  <thead>\n",
       "    <tr style=\"text-align: right;\">\n",
       "      <th></th>\n",
       "      <th>Symbol</th>\n",
       "      <th>Name</th>\n",
       "      <th>Qty@Price</th>\n",
       "      <th>Available QTY</th>\n",
       "      <th>Diluted Cost</th>\n",
       "      <th>Market Value</th>\n",
       "      <th>% Chg</th>\n",
       "      <th>P/L</th>\n",
       "      <th>Today's P/L</th>\n",
       "      <th>% Portfolio</th>\n",
       "      <th>Today's Turnover</th>\n",
       "      <th>Today's Purchase@Avg Price</th>\n",
       "      <th>Today's Sales@Avg Price</th>\n",
       "      <th>Currency</th>\n",
       "      <th>Market</th>\n",
       "      <th>Symbol.1</th>\n",
       "      <th>Unnamed: 16</th>\n",
       "    </tr>\n",
       "  </thead>\n",
       "  <tbody>\n",
       "    <tr>\n",
       "      <th>0</th>\n",
       "      <td>BAC</td>\n",
       "      <td>Bank of America</td>\n",
       "      <td>-8@44.29</td>\n",
       "      <td>-8</td>\n",
       "      <td>44.312</td>\n",
       "      <td>-354.32</td>\n",
       "      <td>+0.05%</td>\n",
       "      <td>0.18</td>\n",
       "      <td>0.18</td>\n",
       "      <td>-10.47%</td>\n",
       "      <td>354.50</td>\n",
       "      <td>0@--</td>\n",
       "      <td>8@44.3125</td>\n",
       "      <td>USD</td>\n",
       "      <td>US</td>\n",
       "      <td>NaN</td>\n",
       "      <td>NaN</td>\n",
       "    </tr>\n",
       "    <tr>\n",
       "      <th>1</th>\n",
       "      <td>BABA</td>\n",
       "      <td>Alibaba</td>\n",
       "      <td>0@82.72</td>\n",
       "      <td>0</td>\n",
       "      <td>0.000</td>\n",
       "      <td>0.00</td>\n",
       "      <td>0.00%</td>\n",
       "      <td>20.67</td>\n",
       "      <td>4.68</td>\n",
       "      <td>0.00%</td>\n",
       "      <td>248.25</td>\n",
       "      <td>3@82.7497</td>\n",
       "      <td>0@--</td>\n",
       "      <td>USD</td>\n",
       "      <td>US</td>\n",
       "      <td>NaN</td>\n",
       "      <td>NaN</td>\n",
       "    </tr>\n",
       "    <tr>\n",
       "      <th>2</th>\n",
       "      <td>TSLL</td>\n",
       "      <td>Direxion Daily TSLA Bull 2X Shares</td>\n",
       "      <td>15@33.765</td>\n",
       "      <td>15</td>\n",
       "      <td>35.409</td>\n",
       "      <td>506.47</td>\n",
       "      <td>-4.64%</td>\n",
       "      <td>-24.67</td>\n",
       "      <td>14.48</td>\n",
       "      <td>+14.97%</td>\n",
       "      <td>0.00</td>\n",
       "      <td>0@--</td>\n",
       "      <td>0@--</td>\n",
       "      <td>USD</td>\n",
       "      <td>US</td>\n",
       "      <td>NaN</td>\n",
       "      <td>NaN</td>\n",
       "    </tr>\n",
       "    <tr>\n",
       "      <th>3</th>\n",
       "      <td>RKLB</td>\n",
       "      <td>Rocket Lab</td>\n",
       "      <td>40@24.73</td>\n",
       "      <td>40</td>\n",
       "      <td>20.304</td>\n",
       "      <td>989.20</td>\n",
       "      <td>+21.80%</td>\n",
       "      <td>177.03</td>\n",
       "      <td>60.40</td>\n",
       "      <td>+29.24%</td>\n",
       "      <td>0.00</td>\n",
       "      <td>0@--</td>\n",
       "      <td>0@--</td>\n",
       "      <td>USD</td>\n",
       "      <td>US</td>\n",
       "      <td>NaN</td>\n",
       "      <td>NaN</td>\n",
       "    </tr>\n",
       "    <tr>\n",
       "      <th>4</th>\n",
       "      <td>PLTR</td>\n",
       "      <td>Palantir</td>\n",
       "      <td>0@78.671</td>\n",
       "      <td>0</td>\n",
       "      <td>0.000</td>\n",
       "      <td>0.00</td>\n",
       "      <td>0.00%</td>\n",
       "      <td>23.17</td>\n",
       "      <td>25.80</td>\n",
       "      <td>0.00%</td>\n",
       "      <td>471.06</td>\n",
       "      <td>0@--</td>\n",
       "      <td>6@78.51</td>\n",
       "      <td>USD</td>\n",
       "      <td>US</td>\n",
       "      <td>NaN</td>\n",
       "      <td>NaN</td>\n",
       "    </tr>\n",
       "    <tr>\n",
       "      <th>5</th>\n",
       "      <td>GEV</td>\n",
       "      <td>GE Vernova</td>\n",
       "      <td>2@342.81</td>\n",
       "      <td>0</td>\n",
       "      <td>326.140</td>\n",
       "      <td>685.62</td>\n",
       "      <td>+5.11%</td>\n",
       "      <td>33.34</td>\n",
       "      <td>20.52</td>\n",
       "      <td>+20.27%</td>\n",
       "      <td>0.00</td>\n",
       "      <td>0@--</td>\n",
       "      <td>0@--</td>\n",
       "      <td>USD</td>\n",
       "      <td>US</td>\n",
       "      <td>NaN</td>\n",
       "      <td>NaN</td>\n",
       "    </tr>\n",
       "  </tbody>\n",
       "</table>\n",
       "</div>"
      ],
      "text/plain": [
       "  Symbol                                Name  Qty@Price  Available QTY  \\\n",
       "0    BAC                     Bank of America   -8@44.29             -8   \n",
       "1   BABA                             Alibaba    0@82.72              0   \n",
       "2   TSLL  Direxion Daily TSLA Bull 2X Shares  15@33.765             15   \n",
       "3   RKLB                          Rocket Lab   40@24.73             40   \n",
       "4   PLTR                            Palantir   0@78.671              0   \n",
       "5    GEV                          GE Vernova   2@342.81              0   \n",
       "\n",
       "   Diluted Cost  Market Value    % Chg     P/L  Today's P/L % Portfolio  \\\n",
       "0        44.312       -354.32   +0.05%    0.18         0.18     -10.47%   \n",
       "1         0.000          0.00    0.00%   20.67         4.68       0.00%   \n",
       "2        35.409        506.47   -4.64%  -24.67        14.48     +14.97%   \n",
       "3        20.304        989.20  +21.80%  177.03        60.40     +29.24%   \n",
       "4         0.000          0.00    0.00%   23.17        25.80       0.00%   \n",
       "5       326.140        685.62   +5.11%   33.34        20.52     +20.27%   \n",
       "\n",
       "   Today's Turnover Today's Purchase@Avg Price Today's Sales@Avg Price  \\\n",
       "0            354.50                       0@--               8@44.3125   \n",
       "1            248.25                  3@82.7497                    0@--   \n",
       "2              0.00                       0@--                    0@--   \n",
       "3              0.00                       0@--                    0@--   \n",
       "4            471.06                       0@--                 6@78.51   \n",
       "5              0.00                       0@--                    0@--   \n",
       "\n",
       "  Currency Market  Symbol.1  Unnamed: 16  \n",
       "0      USD     US       NaN          NaN  \n",
       "1      USD     US       NaN          NaN  \n",
       "2      USD     US       NaN          NaN  \n",
       "3      USD     US       NaN          NaN  \n",
       "4      USD     US       NaN          NaN  \n",
       "5      USD     US       NaN          NaN  "
      ]
     },
     "execution_count": 20,
     "metadata": {},
     "output_type": "execute_result"
    }
   ],
   "source": [
    "portfolio"
   ]
  },
  {
   "cell_type": "code",
   "execution_count": 21,
   "id": "b06462fd",
   "metadata": {},
   "outputs": [],
   "source": [
    "portfolio = portfolio[portfolio[\"Market Value\"] != 0]"
   ]
  },
  {
   "cell_type": "code",
   "execution_count": 22,
   "id": "240ad8e5",
   "metadata": {},
   "outputs": [
    {
     "data": {
      "text/html": [
       "<div>\n",
       "<style scoped>\n",
       "    .dataframe tbody tr th:only-of-type {\n",
       "        vertical-align: middle;\n",
       "    }\n",
       "\n",
       "    .dataframe tbody tr th {\n",
       "        vertical-align: top;\n",
       "    }\n",
       "\n",
       "    .dataframe thead th {\n",
       "        text-align: right;\n",
       "    }\n",
       "</style>\n",
       "<table border=\"1\" class=\"dataframe\">\n",
       "  <thead>\n",
       "    <tr style=\"text-align: right;\">\n",
       "      <th></th>\n",
       "      <th>Symbol</th>\n",
       "      <th>Name</th>\n",
       "      <th>Qty@Price</th>\n",
       "      <th>Available QTY</th>\n",
       "      <th>Diluted Cost</th>\n",
       "      <th>Market Value</th>\n",
       "      <th>% Chg</th>\n",
       "      <th>P/L</th>\n",
       "      <th>Today's P/L</th>\n",
       "      <th>% Portfolio</th>\n",
       "      <th>Today's Turnover</th>\n",
       "      <th>Today's Purchase@Avg Price</th>\n",
       "      <th>Today's Sales@Avg Price</th>\n",
       "      <th>Currency</th>\n",
       "      <th>Market</th>\n",
       "      <th>Symbol.1</th>\n",
       "      <th>Unnamed: 16</th>\n",
       "    </tr>\n",
       "  </thead>\n",
       "  <tbody>\n",
       "    <tr>\n",
       "      <th>0</th>\n",
       "      <td>BAC</td>\n",
       "      <td>Bank of America</td>\n",
       "      <td>-8@44.29</td>\n",
       "      <td>-8</td>\n",
       "      <td>44.312</td>\n",
       "      <td>-354.32</td>\n",
       "      <td>+0.05%</td>\n",
       "      <td>0.18</td>\n",
       "      <td>0.18</td>\n",
       "      <td>-10.47%</td>\n",
       "      <td>354.5</td>\n",
       "      <td>0@--</td>\n",
       "      <td>8@44.3125</td>\n",
       "      <td>USD</td>\n",
       "      <td>US</td>\n",
       "      <td>NaN</td>\n",
       "      <td>NaN</td>\n",
       "    </tr>\n",
       "    <tr>\n",
       "      <th>2</th>\n",
       "      <td>TSLL</td>\n",
       "      <td>Direxion Daily TSLA Bull 2X Shares</td>\n",
       "      <td>15@33.765</td>\n",
       "      <td>15</td>\n",
       "      <td>35.409</td>\n",
       "      <td>506.47</td>\n",
       "      <td>-4.64%</td>\n",
       "      <td>-24.67</td>\n",
       "      <td>14.48</td>\n",
       "      <td>+14.97%</td>\n",
       "      <td>0.0</td>\n",
       "      <td>0@--</td>\n",
       "      <td>0@--</td>\n",
       "      <td>USD</td>\n",
       "      <td>US</td>\n",
       "      <td>NaN</td>\n",
       "      <td>NaN</td>\n",
       "    </tr>\n",
       "    <tr>\n",
       "      <th>3</th>\n",
       "      <td>RKLB</td>\n",
       "      <td>Rocket Lab</td>\n",
       "      <td>40@24.73</td>\n",
       "      <td>40</td>\n",
       "      <td>20.304</td>\n",
       "      <td>989.20</td>\n",
       "      <td>+21.80%</td>\n",
       "      <td>177.03</td>\n",
       "      <td>60.40</td>\n",
       "      <td>+29.24%</td>\n",
       "      <td>0.0</td>\n",
       "      <td>0@--</td>\n",
       "      <td>0@--</td>\n",
       "      <td>USD</td>\n",
       "      <td>US</td>\n",
       "      <td>NaN</td>\n",
       "      <td>NaN</td>\n",
       "    </tr>\n",
       "    <tr>\n",
       "      <th>5</th>\n",
       "      <td>GEV</td>\n",
       "      <td>GE Vernova</td>\n",
       "      <td>2@342.81</td>\n",
       "      <td>0</td>\n",
       "      <td>326.140</td>\n",
       "      <td>685.62</td>\n",
       "      <td>+5.11%</td>\n",
       "      <td>33.34</td>\n",
       "      <td>20.52</td>\n",
       "      <td>+20.27%</td>\n",
       "      <td>0.0</td>\n",
       "      <td>0@--</td>\n",
       "      <td>0@--</td>\n",
       "      <td>USD</td>\n",
       "      <td>US</td>\n",
       "      <td>NaN</td>\n",
       "      <td>NaN</td>\n",
       "    </tr>\n",
       "  </tbody>\n",
       "</table>\n",
       "</div>"
      ],
      "text/plain": [
       "  Symbol                                Name  Qty@Price  Available QTY  \\\n",
       "0    BAC                     Bank of America   -8@44.29             -8   \n",
       "2   TSLL  Direxion Daily TSLA Bull 2X Shares  15@33.765             15   \n",
       "3   RKLB                          Rocket Lab   40@24.73             40   \n",
       "5    GEV                          GE Vernova   2@342.81              0   \n",
       "\n",
       "   Diluted Cost  Market Value    % Chg     P/L  Today's P/L % Portfolio  \\\n",
       "0        44.312       -354.32   +0.05%    0.18         0.18     -10.47%   \n",
       "2        35.409        506.47   -4.64%  -24.67        14.48     +14.97%   \n",
       "3        20.304        989.20  +21.80%  177.03        60.40     +29.24%   \n",
       "5       326.140        685.62   +5.11%   33.34        20.52     +20.27%   \n",
       "\n",
       "   Today's Turnover Today's Purchase@Avg Price Today's Sales@Avg Price  \\\n",
       "0             354.5                       0@--               8@44.3125   \n",
       "2               0.0                       0@--                    0@--   \n",
       "3               0.0                       0@--                    0@--   \n",
       "5               0.0                       0@--                    0@--   \n",
       "\n",
       "  Currency Market  Symbol.1  Unnamed: 16  \n",
       "0      USD     US       NaN          NaN  \n",
       "2      USD     US       NaN          NaN  \n",
       "3      USD     US       NaN          NaN  \n",
       "5      USD     US       NaN          NaN  "
      ]
     },
     "execution_count": 22,
     "metadata": {},
     "output_type": "execute_result"
    }
   ],
   "source": [
    "portfolio\n"
   ]
  },
  {
   "cell_type": "code",
   "execution_count": 23,
   "id": "9d3dc8e8-94b4-4545-8baa-ecad41ccefa4",
   "metadata": {},
   "outputs": [
    {
     "name": "stderr",
     "output_type": "stream",
     "text": [
      "C:\\Users\\Chevy\\AppData\\Local\\Temp\\ipykernel_21276\\934393751.py:3: SettingWithCopyWarning: \n",
      "A value is trying to be set on a copy of a slice from a DataFrame.\n",
      "Try using .loc[row_indexer,col_indexer] = value instead\n",
      "\n",
      "See the caveats in the documentation: https://pandas.pydata.org/pandas-docs/stable/user_guide/indexing.html#returning-a-view-versus-a-copy\n",
      "  portfolio[\"Market Value (abs)\"] = abs(portfolio[\"Market Value\"])\n"
     ]
    }
   ],
   "source": [
    "assets = list(portfolio[\"Symbol\"])\n",
    "\n",
    "portfolio[\"Market Value (abs)\"] = abs(portfolio[\"Market Value\"])\n",
    "\n",
    "total_mv = portfolio[\"Market Value (abs)\"].sum()\n",
    "market_value = list(portfolio[\"Market Value\"])\n",
    "weight = list(market_value / total_mv)\n"
   ]
  },
  {
   "cell_type": "code",
   "execution_count": 24,
   "id": "e1fd9254",
   "metadata": {},
   "outputs": [
    {
     "data": {
      "text/plain": [
       "[-0.1397375779398251,\n",
       " 0.19974286266421099,\n",
       " 0.39012308675230023,\n",
       " 0.2703964726436636]"
      ]
     },
     "execution_count": 24,
     "metadata": {},
     "output_type": "execute_result"
    }
   ],
   "source": [
    "weight"
   ]
  },
  {
   "cell_type": "code",
   "execution_count": 25,
   "id": "ad7adce3-88dc-4da9-85f3-412bec885fd0",
   "metadata": {},
   "outputs": [],
   "source": [
    "\n",
    "def get_data(assets):\n",
    "    data = yf.download(assets, period=\"max\")['Adj Close']\n",
    "    return data\n",
    "\n",
    "def get_correclation_heatmap(data):\n",
    "    d_returns = data.pct_change().dropna()\n",
    "    corr = d_returns.corr()\n",
    "\n",
    "    plt.figure(figsize=(8,6))\n",
    "\n",
    "    mask = np.triu(np.ones_like(corr, dtype=bool))\n",
    "\n",
    "    sns.heatmap(\n",
    "        corr,\n",
    "        annot=True,\n",
    "        cmap=\"coolwarm\",\n",
    "        fmt=\".2f\",\n",
    "        linewidths=0.5,\n",
    "        annot_kws={\"size\": 7},\n",
    "        mask=mask\n",
    "    )\n",
    "\n",
    "    plt.xticks(fontsize=10)\n",
    "    plt.yticks(fontsize=10)\n",
    "    plt.show()  \n",
    "\n",
    "\n",
    "def portfolio_volatility(assets, weights):\n",
    "    data = yf.download(assets, period=\"max\")['Adj Close']\n",
    "    returns = data.pct_change().dropna()\n",
    "\n",
    "    cov_matrix_daily = returns.cov()\n",
    "    cov_matrix_weekly = cov_matrix_daily * 5\n",
    "    cov_matrix_monthly = cov_matrix_daily * 21\n",
    "    cov_matrix_quarterly = cov_matrix_daily * 63\n",
    "    cov_matrix_annual = cov_matrix_daily * 252\n",
    "\n",
    "    daily_volatility = np.sqrt(np.dot(weights, np.dot(cov_matrix_daily, weights)))\n",
    "    weekly_volatility = np.sqrt(np.dot(weights, np.dot(cov_matrix_weekly, weights)))\n",
    "    monthly_volatility = np.sqrt(np.dot(weights, np.dot(cov_matrix_monthly, weights)))\n",
    "    quarterly_volatility = np.sqrt(np.dot(weights, np.dot(cov_matrix_quarterly, weights)))\n",
    "    annual_volatility = np.sqrt(np.dot(weights, np.dot(cov_matrix_annual, weights)))\n",
    "\n",
    "    \n",
    "    # Display the results\n",
    "    print(f\"Portfolio Daily Volatility: {daily_volatility:.2%}\")\n",
    "    print(f\"Portfolio Weekly Volatility: {weekly_volatility:.2%}\")\n",
    "    print(f\"Portfolio Monthly Volatility: {monthly_volatility:.2%}\")\n",
    "    print(f\"Portfolio Quarterly Volatility: {quarterly_volatility:.2%}\")\n",
    "    print(f\"Portfolio Annual Volatility: {annual_volatility:.2%}\")\n",
    "\n",
    "    \n",
    "    \n",
    "def benchmark_volatility(benchmark_symbol):\n",
    "    # Download historical data for the benchmark\n",
    "    benchmark_data = yf.download(benchmark_symbol, period=\"1y\")['Adj Close']\n",
    "    benchmark_returns = benchmark_data.pct_change().dropna()\n",
    "\n",
    "    # Calculate daily covariance (variance in this case as it's a single asset)\n",
    "    daily_variance = benchmark_returns.var()\n",
    "    \n",
    "    # Scale to weekly, monthly, quarterly, and annual variances\n",
    "    weekly_variance = daily_variance * 5\n",
    "    monthly_variance = daily_variance * 21\n",
    "    quarterly_variance = daily_variance * 63\n",
    "    annual_variance = daily_variance * 252\n",
    "\n",
    "    # Calculate volatility (square root of variance)\n",
    "    daily_volatility = np.sqrt(daily_variance)\n",
    "    weekly_volatility = np.sqrt(weekly_variance)\n",
    "    monthly_volatility = np.sqrt(monthly_variance)\n",
    "    quarterly_volatility = np.sqrt(quarterly_variance)\n",
    "    annual_volatility = np.sqrt(annual_variance)\n",
    "\n",
    "    # Display the results\n",
    "    print(f\"Benchmark Daily Volatility: {daily_volatility:.2%}\")\n",
    "    print(f\"Benchmark Weekly Volatility: {weekly_volatility:.2%}\")\n",
    "    print(f\"Benchmark Monthly Volatility: {monthly_volatility:.2%}\")\n",
    "    print(f\"Benchmark Quarterly Volatility: {quarterly_volatility:.2%}\")\n",
    "    print(f\"Benchmark Annual Volatility: {annual_volatility:.2%}\")\n",
    "\n",
    "\n"
   ]
  },
  {
   "cell_type": "code",
   "execution_count": 29,
   "id": "8cec5bd8",
   "metadata": {},
   "outputs": [
    {
     "name": "stderr",
     "output_type": "stream",
     "text": [
      "[*********************100%***********************]  5 of 5 completed\n"
     ]
    },
    {
     "data": {
      "image/png": "[encoded data removed]",
      "text/plain": [
       "<Figure size 800x600 with 2 Axes>"
      ]
     },
     "metadata": {},
     "output_type": "display_data"
    }
   ],
   "source": [
    "#Plot the correlation heatmap if you want to enter a new position\n",
    "new_assets = [\"RKLB\",\"UPST\",\"TSLL\",\"BAC\",\"UGL\"]\n",
    "get_correclation_heatmap(get_data(new_assets))"
   ]
  },
  {
   "cell_type": "code",
   "execution_count": 27,
   "id": "cabb9788",
   "metadata": {},
   "outputs": [
    {
     "name": "stderr",
     "output_type": "stream",
     "text": [
      "[*********************100%***********************]  4 of 4 completed\n"
     ]
    },
    {
     "data": {
      "image/png": "[encoded data removed]",
      "text/plain": [
       "<Figure size 800x600 with 2 Axes>"
      ]
     },
     "metadata": {},
     "output_type": "display_data"
    }
   ],
   "source": [
    "get_correclation_heatmap(get_data(assets))"
   ]
  },
  {
   "cell_type": "code",
   "execution_count": 28,
   "id": "f202b5ec-b81c-458b-aa25-65c477610f90",
   "metadata": {
    "scrolled": true
   },
   "outputs": [
    {
     "name": "stderr",
     "output_type": "stream",
     "text": [
      "[*********************100%***********************]  4 of 4 completed\n",
      "[*********************100%***********************]  1 of 1 completed"
     ]
    },
    {
     "name": "stdout",
     "output_type": "stream",
     "text": [
      "Portfolio Daily Volatility: 3.66%\n",
      "Portfolio Weekly Volatility: 8.18%\n",
      "Portfolio Monthly Volatility: 16.76%\n",
      "Portfolio Quarterly Volatility: 29.03%\n",
      "Portfolio Annual Volatility: 58.07%\n",
      "Benchmark Daily Volatility: 0.79%\n",
      "Benchmark Weekly Volatility: 1.77%\n",
      "Benchmark Monthly Volatility: 3.64%\n",
      "Benchmark Quarterly Volatility: 6.30%\n",
      "Benchmark Annual Volatility: 12.59%\n"
     ]
    },
    {
     "name": "stderr",
     "output_type": "stream",
     "text": [
      "\n"
     ]
    }
   ],
   "source": [
    "portfolio_volatility(assets,weight)\n",
    "benchmark_volatility(\"^GSPC\")"
   ]
  },
  {
   "cell_type": "code",
   "execution_count": null,
   "id": "3572c016",
   "metadata": {},
   "outputs": [],
   "source": []
  }
 ],
 "metadata": {
  "kernelspec": {
   "display_name": "base",
   "language": "python",
   "name": "python3"
  },
  "language_info": {
   "codemirror_mode": {
    "name": "ipython",
    "version": 3
   },
   "file_extension": ".py",
   "mimetype": "text/x-python",
   "name": "python",
   "nbconvert_exporter": "python",
   "pygments_lexer": "ipython3",
   "version": "3.12.3"
  }
 },
 "nbformat": 4,
 "nbformat_minor": 5
}
